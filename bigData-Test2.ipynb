{
 "cells": [
  {
   "cell_type": "code",
   "execution_count": 109,
   "metadata": {},
   "outputs": [],
   "source": [
    "import pandas as pd\n",
    "import numpy as np\n",
    "import matplotlib.pyplot as plt\n",
    "\n"
   ]
  },
  {
   "cell_type": "code",
   "execution_count": 110,
   "metadata": {},
   "outputs": [
    {
     "name": "stdout",
     "output_type": "stream",
     "text": [
      "<class 'pandas.core.frame.DataFrame'>\n",
      "RangeIndex: 677759 entries, 0 to 677758\n",
      "Data columns (total 21 columns):\n",
      " #   Column              Non-Null Count   Dtype         \n",
      "---  ------              --------------   -----         \n",
      " 0   route               677759 non-null  object        \n",
      " 1   ship_date           677759 non-null  datetime64[ns]\n",
      " 2   truck_id            677759 non-null  object        \n",
      " 3   old_truck_id        461771 non-null  object        \n",
      " 4   branch              677759 non-null  object        \n",
      " 5   whse                677759 non-null  object        \n",
      " 6   ShipFromAddress1    677759 non-null  object        \n",
      " 7   ShipToName2         677747 non-null  object        \n",
      " 8   ShipToAddress1      677759 non-null  object        \n",
      " 9   unique_del_loc      461771 non-null  object        \n",
      " 10  whse-acct-shipto    677759 non-null  object        \n",
      " 11  product_id          677759 non-null  object        \n",
      " 12  product_desc        677750 non-null  object        \n",
      " 13  uom                 677757 non-null  object        \n",
      " 14  product_type        677759 non-null  object        \n",
      " 15  group_product_type  655521 non-null  object        \n",
      " 16  sub_product_type    655519 non-null  object        \n",
      " 17  product_line        637001 non-null  object        \n",
      " 18  product_line_desc   637001 non-null  object        \n",
      " 19  gallons_shipped     677759 non-null  float64       \n",
      " 20  source              677759 non-null  object        \n",
      "dtypes: datetime64[ns](1), float64(1), object(19)\n",
      "memory usage: 108.6+ MB\n",
      "None\n"
     ]
    }
   ],
   "source": [
    "#data = pd.read_excel('orderslist.xlsx')\n",
    "df = pd.read_excel(\"orderslist.xlsx\", sheet_name=\"Sheet1\", engine='openpyxl')\n",
    "#df = pd.read_excel(\"orderslist10.xlsx\", sheet_name=\"Sheet1\", engine='openpyxl')\n",
    "\n",
    "\n",
    "#print(data.head())\n",
    "print(df.info())"
   ]
  },
  {
   "cell_type": "markdown",
   "metadata": {},
   "source": [
    "# # Task 1"
   ]
  },
  {
   "cell_type": "code",
   "execution_count": 112,
   "metadata": {
    "scrolled": true
   },
   "outputs": [
    {
     "data": {
      "text/plain": [
       "\"\\n\\ndf['order_date'] = pd.to_datetime(df['ship_date'])\\n\\n\\ndf['week'] = df['order_date'].dt.week\\n\\n\\nresult = df.groupby(['whse', 'week']).agg(\\n\\n    Total_Customers=('ShipToName2', 'nunique'  ),\\n    Visited_Once=('ShipToName2', lambda x: sum(x.value_counts() == 1)),\\n    Visited_Twice=('ShipToName2', lambda x: sum(x.value_counts() == 2)),\\n    Visited_More_Than_Twice=('ShipToName2', lambda x: sum(x.value_counts() > 2)),\\n\\n).reset_index()\\n\\n\\nresult.to_excel('Task01_metrics_1.xlsx', index=False)\\nprint('Data Saved to excel')\\n\\n\""
      ]
     },
     "execution_count": 112,
     "metadata": {},
     "output_type": "execute_result"
    }
   ],
   "source": [
    "'''\n",
    "\n",
    "df['order_date'] = pd.to_datetime(df['ship_date'])\n",
    "\n",
    "\n",
    "df['week'] = df['order_date'].dt.week\n",
    "\n",
    "\n",
    "result = df.groupby(['whse', 'week']).agg(\n",
    "\n",
    "    Total_Customers=('ShipToName2', 'nunique'  ),\n",
    "    Visited_Once=('ShipToName2', lambda x: sum(x.value_counts() == 1)),\n",
    "    Visited_Twice=('ShipToName2', lambda x: sum(x.value_counts() == 2)),\n",
    "    Visited_More_Than_Twice=('ShipToName2', lambda x: sum(x.value_counts() > 2)),\n",
    "\n",
    ").reset_index()\n",
    "\n",
    "\n",
    "result.to_excel('Task01_metrics_1.xlsx', index=False)\n",
    "print('Data Saved to excel')\n",
    "\n",
    "'''"
   ]
  },
  {
   "cell_type": "code",
   "execution_count": 113,
   "metadata": {},
   "outputs": [
    {
     "data": {
      "text/plain": [
       "\"\\ndf['order_date'] = pd.to_datetime(df['ship_date'])\\ndf['week'] = df['order_date'].dt.week\\n\\n\\nunique_dates_per_customer = df.groupby(['whse', 'week', 'ShipToName2'])['order_date'].nunique().reset_index(name='unique_dates')\\n\\n\\nresult = unique_dates_per_customer.groupby(['whse', 'week']).agg(\\n    Total_Customers=('ShipToName2', 'nunique'),\\n    Visited_Once=('unique_dates', lambda x: sum(x == 1)),\\n    Visited_Twice=('unique_dates', lambda x: sum(x == 2)),\\n    Visited_More_Than_Twice=('unique_dates', lambda x: sum(x > 2))\\n).reset_index()\\n\\n\\nresult.to_excel('Task01_metrics_modified12.xlsx', index=False)\\nprint('Data Saved to excel')\\n\""
      ]
     },
     "execution_count": 113,
     "metadata": {},
     "output_type": "execute_result"
    }
   ],
   "source": [
    "'''\n",
    "df['order_date'] = pd.to_datetime(df['ship_date'])\n",
    "df['week'] = df['order_date'].dt.week\n",
    "\n",
    "\n",
    "unique_dates_per_customer = df.groupby(['whse', 'week', 'ShipToName2'])['order_date'].nunique().reset_index(name='unique_dates')\n",
    "\n",
    "\n",
    "result = unique_dates_per_customer.groupby(['whse', 'week']).agg(\n",
    "    Total_Customers=('ShipToName2', 'nunique'),\n",
    "    Visited_Once=('unique_dates', lambda x: sum(x == 1)),\n",
    "    Visited_Twice=('unique_dates', lambda x: sum(x == 2)),\n",
    "    Visited_More_Than_Twice=('unique_dates', lambda x: sum(x > 2))\n",
    ").reset_index()\n",
    "\n",
    "\n",
    "result.to_excel('Task01_metrics_modified12.xlsx', index=False)\n",
    "print('Data Saved to excel')\n",
    "'''"
   ]
  },
  {
   "cell_type": "code",
   "execution_count": 114,
   "metadata": {},
   "outputs": [
    {
     "data": {
      "text/plain": [
       "\"\\ndf['order_date'] = pd.to_datetime(df['ship_date'])\\ndf['week'] = df['order_date'].dt.week\\n\\n\\nunique_dates_and_truck_per_customer = df.groupby(['whse', 'week', 'ShipToName2'])[['order_date', 'truck_id']].nunique().reset_index()\\n\\n\\nresult = unique_dates_and_truck_per_customer.groupby(['whse', 'week']).agg(\\n    Total_Customers=('ShipToName2', 'nunique'),\\n    Visited_Once=('order_date', lambda x: sum(x == 1)),\\n    Visited_Twice=('order_date', lambda x: sum(x == 2)) ,\\n    Visited_Twice_truck= ('truck_id', lambda x: sum(x == 2)) ,\\n    Visited_More_Than_Twice=('order_date', lambda x: sum(x > 2)),\\n    Visited_More_Than_Twice_bytruck=('truck_id', lambda x: sum(x > 2))\\n).reset_index()\\n\\nresult.to_excel('Task01_metrics_combined.xlsx', index=False)\\nprint('Data Saved to excel')\\n\\n\""
      ]
     },
     "execution_count": 114,
     "metadata": {},
     "output_type": "execute_result"
    }
   ],
   "source": [
    "'''\n",
    "df['order_date'] = pd.to_datetime(df['ship_date'])\n",
    "df['week'] = df['order_date'].dt.week\n",
    "\n",
    "\n",
    "unique_dates_and_truck_per_customer = df.groupby(['whse', 'week', 'ShipToName2'])[['order_date', 'truck_id']].nunique().reset_index()\n",
    "\n",
    "\n",
    "result = unique_dates_and_truck_per_customer.groupby(['whse', 'week']).agg(\n",
    "    Total_Customers=('ShipToName2', 'nunique'),\n",
    "    Visited_Once=('order_date', lambda x: sum(x == 1)),\n",
    "    Visited_Twice=('order_date', lambda x: sum(x == 2)) ,\n",
    "    Visited_Twice_truck= ('truck_id', lambda x: sum(x == 2)) ,\n",
    "    Visited_More_Than_Twice=('order_date', lambda x: sum(x > 2)),\n",
    "    Visited_More_Than_Twice_bytruck=('truck_id', lambda x: sum(x > 2))\n",
    ").reset_index()\n",
    "\n",
    "result.to_excel('Task01_metrics_combined.xlsx', index=False)\n",
    "print('Data Saved to excel')\n",
    "\n",
    "'''"
   ]
  },
  {
   "cell_type": "code",
   "execution_count": 115,
   "metadata": {},
   "outputs": [
    {
     "name": "stderr",
     "output_type": "stream",
     "text": [
      "<ipython-input-115-ccd211950522>:2: FutureWarning: Series.dt.weekofyear and Series.dt.week have been deprecated.  Please use Series.dt.isocalendar().week instead.\n",
      "  df['week'] = df['order_date'].dt.week\n"
     ]
    },
    {
     "name": "stdout",
     "output_type": "stream",
     "text": [
      "Data Saved to excel\n"
     ]
    }
   ],
   "source": [
    "\n",
    "df['order_date'] = pd.to_datetime(df['ship_date'])\n",
    "df['week'] = df['order_date'].dt.week\n",
    "\n",
    "\n",
    "unique_dates_and_truck_per_customer = df.groupby(['whse', 'week', 'ShipToName2'])[['order_date', 'truck_id']].nunique().reset_index()\n",
    "\n",
    "\n",
    "result = unique_dates_and_truck_per_customer.groupby(['whse', 'week']).agg(\n",
    "    Total_Customers=('ShipToName2', 'nunique'),\n",
    "    Visited_Once=('order_date', lambda x: sum(x == 1)),\n",
    "    Visited_Twice=('order_date', lambda x: sum(x == 2)) ,\n",
    "    Visited_Twice_truck= ('truck_id', lambda x: sum(x == 2)) ,\n",
    "    Visited_More_Than_Twice=('order_date', lambda x: sum(x > 2)),\n",
    "    Visited_More_Than_Twice_bytruck=('truck_id', lambda x: sum(x > 2)),\n",
    "    \n",
    ").reset_index()\n",
    "\n",
    "\n",
    "result['Visited_Twice'] = result['Visited_Twice'] + result['Visited_Twice_truck']\n",
    "result['Visited_More_Than_Twice'] = result['Visited_More_Than_Twice'] + result['Visited_More_Than_Twice_bytruck']\n",
    "\n",
    "result.drop(columns=['Visited_Twice_truck'], inplace=True)\n",
    "result.drop(columns=['Visited_More_Than_Twice_bytruck'], inplace=True)\n",
    "\n",
    "\n",
    "result.to_excel('Task01_metrics.xlsx', index=False)\n",
    "print('Data Saved to excel')"
   ]
  },
  {
   "cell_type": "code",
   "execution_count": 119,
   "metadata": {},
   "outputs": [
    {
     "name": "stderr",
     "output_type": "stream",
     "text": [
      "<ipython-input-119-9a1238ce43f7>:5: FutureWarning: Series.dt.weekofyear and Series.dt.week have been deprecated.  Please use Series.dt.isocalendar().week instead.\n",
      "  df['week'] = df['order_date'].dt.week\n"
     ]
    },
    {
     "name": "stdout",
     "output_type": "stream",
     "text": [
      "Percentage Data Saved to excel\n"
     ]
    }
   ],
   "source": [
    "import pandas as pd\n",
    "\n",
    "# Assuming df is the DataFrame containing the data with columns 'ship_date', 'whse', 'ShipToName2', and 'truck_id'\n",
    "df['order_date'] = pd.to_datetime(df['ship_date'])\n",
    "df['week'] = df['order_date'].dt.week\n",
    "\n",
    "unique_dates_and_truck_per_customer = df.groupby(['whse', 'week', 'ShipToName2'])[['order_date', 'truck_id']].nunique().reset_index()\n",
    "\n",
    "result = unique_dates_and_truck_per_customer.groupby(['whse', 'week']).agg(\n",
    "    Total_Customers=('ShipToName2', 'nunique'),\n",
    "    Visited_Once=('order_date', lambda x: sum(x == 1)),\n",
    "    Visited_Twice=('order_date', lambda x: sum(x == 2)),\n",
    "    Visited_Twice_truck=('truck_id', lambda x: sum(x == 2)),\n",
    "    Visited_More_Than_Twice=('order_date', lambda x: sum(x > 2)),\n",
    "    Visited_More_Than_Twice_bytruck=('truck_id', lambda x: sum(x > 2)),\n",
    ").reset_index()\n",
    "\n",
    "result['Visited_Twice'] = result['Visited_Twice'] + result['Visited_Twice_truck']\n",
    "result['Visited_More_Than_Twice'] = result['Visited_More_Than_Twice'] + result['Visited_More_Than_Twice_bytruck']\n",
    "\n",
    "result.drop(columns=['Visited_Twice_truck', 'Visited_More_Than_Twice_bytruck'], inplace=True)\n",
    "\n",
    "# Calculate the percentage of Visited Once for each warehouse over the whole time\n",
    "warehouse_total_customers = result.groupby('whse')['Total_Customers'].sum()\n",
    "\n",
    "warehouse_visited_once = result.groupby('whse')['Visited_Once'].sum()\n",
    "warehouse_visited_twice = result.groupby('whse')['Visited_Twice'].sum()\n",
    "warehouse_visited_more_twise = result.groupby('whse')['Visited_More_Than_Twice'].sum()\n",
    "warehouse_percentage_visited_once = (warehouse_visited_once / (warehouse_visited_once+warehouse_visited_twice+warehouse_visited_more_twise)) * 100\n",
    "warehouse_percentage_visited_twise = (warehouse_visited_twice / (warehouse_visited_once+warehouse_visited_twice+warehouse_visited_more_twise)) * 100\n",
    "warehouse_percentage_visited_more_twice = (warehouse_visited_more_twise / (warehouse_visited_once+warehouse_visited_twice+warehouse_visited_more_twise)) * 100\n",
    "\n",
    "# Create a DataFrame to hold the calculated percentages\n",
    "percentage_df = pd.DataFrame({\n",
    "    'Warehouse': warehouse_percentage_visited_once.index,\n",
    "    'Percentage Visited Once': warehouse_percentage_visited_once,\n",
    "    'Percentage Visited Twice': warehouse_percentage_visited_twise,\n",
    "    'Percentage Visited More Than Twice': warehouse_percentage_visited_more_twice\n",
    "})\n",
    "\n",
    "# Save the percentages to an Excel file\n",
    "percentage_df.to_excel('Visited_Percentages.xlsx', index=False)\n",
    "print('Percentage Data Saved to excel')\n"
   ]
  },
  {
   "cell_type": "code",
   "execution_count": null,
   "metadata": {},
   "outputs": [],
   "source": []
  }
 ],
 "metadata": {
  "kernelspec": {
   "display_name": "Python 3",
   "language": "python",
   "name": "python3"
  },
  "language_info": {
   "codemirror_mode": {
    "name": "ipython",
    "version": 3
   },
   "file_extension": ".py",
   "mimetype": "text/x-python",
   "name": "python",
   "nbconvert_exporter": "python",
   "pygments_lexer": "ipython3",
   "version": "3.8.5"
  }
 },
 "nbformat": 4,
 "nbformat_minor": 4
}
